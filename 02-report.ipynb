{
 "cells": [
  {
   "cell_type": "code",
   "execution_count": 1,
   "metadata": {},
   "outputs": [
    {
     "name": "stderr",
     "output_type": "stream",
     "text": [
      "You are using wmfdata v1.2, but v1.3.1 is available.\n",
      "\n",
      "To update, run `pip install --upgrade git+https://github.com/wikimedia/wmfdata-python.git@release`.\n",
      "\n",
      "To see the changes, refer to https://github.com/wikimedia/wmfdata-python/blob/release/CHANGELOG.md\n"
     ]
    }
   ],
   "source": [
    "from functools import reduce\n",
    "\n",
    "from cycler import cycler\n",
    "from dateutil.relativedelta import relativedelta\n",
    "import matplotlib.pyplot as plt\n",
    "from numbers import Number\n",
    "import numpy as np\n",
    "import pandas as pd\n",
    "#from scipy import stats as sstats\n",
    "import wmfdata as wmf\n",
    "from wmfdata.utils import pct_str, sig_figs\n",
    "from wmfdata.charting import pct_fmt, M_fmt, comma_fmt\n",
    "\n",
    "import gspread\n",
    "from google.oauth2.service_account import Credentials"
   ]
  },
  {
   "cell_type": "code",
   "execution_count": 2,
   "metadata": {},
   "outputs": [],
   "source": [
    "FILE = \"metrics/metrics.tsv\"\n",
    "metrics = pd.read_csv(FILE, sep=\"\\t\", parse_dates=[\"month\"]).set_index(\"month\")"
   ]
  },
  {
   "cell_type": "code",
   "execution_count": 3,
   "metadata": {},
   "outputs": [
    {
     "data": {
      "text/html": [
       "<div>\n",
       "<style scoped>\n",
       "    .dataframe tbody tr th:only-of-type {\n",
       "        vertical-align: middle;\n",
       "    }\n",
       "\n",
       "    .dataframe tbody tr th {\n",
       "        vertical-align: top;\n",
       "    }\n",
       "\n",
       "    .dataframe thead th {\n",
       "        text-align: right;\n",
       "    }\n",
       "</style>\n",
       "<table border=\"1\" class=\"dataframe\">\n",
       "  <thead>\n",
       "    <tr style=\"text-align: right;\">\n",
       "      <th></th>\n",
       "      <th>structured_data_used</th>\n",
       "      <th>num_commons_files_used_content_pages</th>\n",
       "      <th>wikidata_items</th>\n",
       "      <th>wikidata_items_being_reused</th>\n",
       "    </tr>\n",
       "    <tr>\n",
       "      <th>month</th>\n",
       "      <th></th>\n",
       "      <th></th>\n",
       "      <th></th>\n",
       "      <th></th>\n",
       "    </tr>\n",
       "  </thead>\n",
       "  <tbody>\n",
       "    <tr>\n",
       "      <th>2020-07-01</th>\n",
       "      <td>102540679.0</td>\n",
       "      <td>33182261.0</td>\n",
       "      <td>NaN</td>\n",
       "      <td>NaN</td>\n",
       "    </tr>\n",
       "    <tr>\n",
       "      <th>2020-08-01</th>\n",
       "      <td>104565582.0</td>\n",
       "      <td>33576054.0</td>\n",
       "      <td>88776242.0</td>\n",
       "      <td>18390627.0</td>\n",
       "    </tr>\n",
       "    <tr>\n",
       "      <th>2020-09-01</th>\n",
       "      <td>105631168.0</td>\n",
       "      <td>33815277.0</td>\n",
       "      <td>89386201.0</td>\n",
       "      <td>18472082.0</td>\n",
       "    </tr>\n",
       "    <tr>\n",
       "      <th>2020-10-01</th>\n",
       "      <td>106729592.0</td>\n",
       "      <td>32666244.0</td>\n",
       "      <td>90190671.0</td>\n",
       "      <td>18549227.0</td>\n",
       "    </tr>\n",
       "    <tr>\n",
       "      <th>2020-11-01</th>\n",
       "      <td>108116779.0</td>\n",
       "      <td>31481821.0</td>\n",
       "      <td>90821857.0</td>\n",
       "      <td>18673974.0</td>\n",
       "    </tr>\n",
       "    <tr>\n",
       "      <th>2020-12-01</th>\n",
       "      <td>109284793.0</td>\n",
       "      <td>30628535.0</td>\n",
       "      <td>91480812.0</td>\n",
       "      <td>18782123.0</td>\n",
       "    </tr>\n",
       "    <tr>\n",
       "      <th>2021-01-01</th>\n",
       "      <td>110336427.0</td>\n",
       "      <td>30922629.0</td>\n",
       "      <td>91898784.0</td>\n",
       "      <td>18890176.0</td>\n",
       "    </tr>\n",
       "    <tr>\n",
       "      <th>2021-02-01</th>\n",
       "      <td>111537756.0</td>\n",
       "      <td>31236223.0</td>\n",
       "      <td>92346206.0</td>\n",
       "      <td>18961132.0</td>\n",
       "    </tr>\n",
       "    <tr>\n",
       "      <th>2021-03-01</th>\n",
       "      <td>113749241.0</td>\n",
       "      <td>31994067.0</td>\n",
       "      <td>92766054.0</td>\n",
       "      <td>19081836.0</td>\n",
       "    </tr>\n",
       "    <tr>\n",
       "      <th>2021-04-01</th>\n",
       "      <td>115768032.0</td>\n",
       "      <td>32439596.0</td>\n",
       "      <td>93039049.0</td>\n",
       "      <td>19175909.0</td>\n",
       "    </tr>\n",
       "    <tr>\n",
       "      <th>2021-05-01</th>\n",
       "      <td>117023506.0</td>\n",
       "      <td>33188319.0</td>\n",
       "      <td>93295754.0</td>\n",
       "      <td>19272296.0</td>\n",
       "    </tr>\n",
       "    <tr>\n",
       "      <th>2021-06-01</th>\n",
       "      <td>117956153.0</td>\n",
       "      <td>33484828.0</td>\n",
       "      <td>93525712.0</td>\n",
       "      <td>19379045.0</td>\n",
       "    </tr>\n",
       "    <tr>\n",
       "      <th>2021-07-01</th>\n",
       "      <td>118873343.0</td>\n",
       "      <td>33853754.0</td>\n",
       "      <td>93808863.0</td>\n",
       "      <td>19464104.0</td>\n",
       "    </tr>\n",
       "    <tr>\n",
       "      <th>2021-08-01</th>\n",
       "      <td>120411293.0</td>\n",
       "      <td>35339547.0</td>\n",
       "      <td>94347261.0</td>\n",
       "      <td>19540328.0</td>\n",
       "    </tr>\n",
       "    <tr>\n",
       "      <th>2021-09-01</th>\n",
       "      <td>121413643.0</td>\n",
       "      <td>35748687.0</td>\n",
       "      <td>94646283.0</td>\n",
       "      <td>19640044.0</td>\n",
       "    </tr>\n",
       "    <tr>\n",
       "      <th>2021-10-01</th>\n",
       "      <td>123036144.0</td>\n",
       "      <td>36017280.0</td>\n",
       "      <td>95086219.0</td>\n",
       "      <td>19801319.0</td>\n",
       "    </tr>\n",
       "    <tr>\n",
       "      <th>2021-11-01</th>\n",
       "      <td>123918750.0</td>\n",
       "      <td>36208503.0</td>\n",
       "      <td>95420570.0</td>\n",
       "      <td>20031718.0</td>\n",
       "    </tr>\n",
       "  </tbody>\n",
       "</table>\n",
       "</div>"
      ],
      "text/plain": [
       "            structured_data_used  num_commons_files_used_content_pages  \\\n",
       "month                                                                    \n",
       "2020-07-01           102540679.0                            33182261.0   \n",
       "2020-08-01           104565582.0                            33576054.0   \n",
       "2020-09-01           105631168.0                            33815277.0   \n",
       "2020-10-01           106729592.0                            32666244.0   \n",
       "2020-11-01           108116779.0                            31481821.0   \n",
       "2020-12-01           109284793.0                            30628535.0   \n",
       "2021-01-01           110336427.0                            30922629.0   \n",
       "2021-02-01           111537756.0                            31236223.0   \n",
       "2021-03-01           113749241.0                            31994067.0   \n",
       "2021-04-01           115768032.0                            32439596.0   \n",
       "2021-05-01           117023506.0                            33188319.0   \n",
       "2021-06-01           117956153.0                            33484828.0   \n",
       "2021-07-01           118873343.0                            33853754.0   \n",
       "2021-08-01           120411293.0                            35339547.0   \n",
       "2021-09-01           121413643.0                            35748687.0   \n",
       "2021-10-01           123036144.0                            36017280.0   \n",
       "2021-11-01           123918750.0                            36208503.0   \n",
       "\n",
       "            wikidata_items  wikidata_items_being_reused  \n",
       "month                                                    \n",
       "2020-07-01             NaN                          NaN  \n",
       "2020-08-01      88776242.0                   18390627.0  \n",
       "2020-09-01      89386201.0                   18472082.0  \n",
       "2020-10-01      90190671.0                   18549227.0  \n",
       "2020-11-01      90821857.0                   18673974.0  \n",
       "2020-12-01      91480812.0                   18782123.0  \n",
       "2021-01-01      91898784.0                   18890176.0  \n",
       "2021-02-01      92346206.0                   18961132.0  \n",
       "2021-03-01      92766054.0                   19081836.0  \n",
       "2021-04-01      93039049.0                   19175909.0  \n",
       "2021-05-01      93295754.0                   19272296.0  \n",
       "2021-06-01      93525712.0                   19379045.0  \n",
       "2021-07-01      93808863.0                   19464104.0  \n",
       "2021-08-01      94347261.0                   19540328.0  \n",
       "2021-09-01      94646283.0                   19640044.0  \n",
       "2021-10-01      95086219.0                   19801319.0  \n",
       "2021-11-01      95420570.0                   20031718.0  "
      ]
     },
     "execution_count": 3,
     "metadata": {},
     "output_type": "execute_result"
    }
   ],
   "source": [
    "metrics"
   ]
  },
  {
   "cell_type": "markdown",
   "metadata": {},
   "source": [
    "# Report"
   ]
  },
  {
   "cell_type": "code",
   "execution_count": 4,
   "metadata": {},
   "outputs": [],
   "source": [
    "report_order = [\n",
    "    'structured_data_used', \n",
    "    'num_commons_files_used_content_pages',\n",
    "    'wikidata_items',\n",
    "    'wikidata_items_being_reused'\n",
    "]"
   ]
  },
  {
   "cell_type": "code",
   "execution_count": 5,
   "metadata": {},
   "outputs": [],
   "source": [
    "new_metrics = metrics.iloc[[-1]].transpose().reindex(report_order).fillna(\"—\")"
   ]
  },
  {
   "cell_type": "code",
   "execution_count": 6,
   "metadata": {},
   "outputs": [],
   "source": [
    "new_metrics.at['structured_data_used','status'] =  new_metrics.iloc[0][0]/87000000-1\n",
    "new_metrics.at['num_commons_files_used_content_pages','status'] = new_metrics.iloc[1][0]/31200000-1\n",
    "new_metrics.at['wikidata_items_being_reused','status'] = new_metrics.iloc[3][0]/new_metrics.iloc[2][0]"
   ]
  },
  {
   "cell_type": "code",
   "execution_count": 7,
   "metadata": {},
   "outputs": [
    {
     "data": {
      "text/html": [
       "<div>\n",
       "<style scoped>\n",
       "    .dataframe tbody tr th:only-of-type {\n",
       "        vertical-align: middle;\n",
       "    }\n",
       "\n",
       "    .dataframe tbody tr th {\n",
       "        vertical-align: top;\n",
       "    }\n",
       "\n",
       "    .dataframe thead th {\n",
       "        text-align: right;\n",
       "    }\n",
       "</style>\n",
       "<table border=\"1\" class=\"dataframe\">\n",
       "  <thead>\n",
       "    <tr style=\"text-align: right;\">\n",
       "      <th>month</th>\n",
       "      <th>2021-11-01 00:00:00</th>\n",
       "      <th>status</th>\n",
       "    </tr>\n",
       "  </thead>\n",
       "  <tbody>\n",
       "    <tr>\n",
       "      <th>structured_data_used</th>\n",
       "      <td>123918750.0</td>\n",
       "      <td>0.424353</td>\n",
       "    </tr>\n",
       "    <tr>\n",
       "      <th>num_commons_files_used_content_pages</th>\n",
       "      <td>36208503.0</td>\n",
       "      <td>0.160529</td>\n",
       "    </tr>\n",
       "    <tr>\n",
       "      <th>wikidata_items</th>\n",
       "      <td>95420570.0</td>\n",
       "      <td>NaN</td>\n",
       "    </tr>\n",
       "    <tr>\n",
       "      <th>wikidata_items_being_reused</th>\n",
       "      <td>20031718.0</td>\n",
       "      <td>0.209931</td>\n",
       "    </tr>\n",
       "  </tbody>\n",
       "</table>\n",
       "</div>"
      ],
      "text/plain": [
       "month                                 2021-11-01 00:00:00    status\n",
       "structured_data_used                          123918750.0  0.424353\n",
       "num_commons_files_used_content_pages           36208503.0  0.160529\n",
       "wikidata_items                                 95420570.0       NaN\n",
       "wikidata_items_being_reused                    20031718.0  0.209931"
      ]
     },
     "execution_count": 7,
     "metadata": {},
     "output_type": "execute_result"
    }
   ],
   "source": [
    "new_metrics"
   ]
  },
  {
   "cell_type": "markdown",
   "metadata": {},
   "source": [
    "# Update Google Sheet"
   ]
  },
  {
   "cell_type": "code",
   "execution_count": 8,
   "metadata": {},
   "outputs": [],
   "source": [
    "FILE = \"metrics/metrics.tsv\"\n",
    "all_metrics = pd.read_csv(FILE, sep=\"\\t\")"
   ]
  },
  {
   "cell_type": "code",
   "execution_count": 9,
   "metadata": {},
   "outputs": [],
   "source": [
    "scope = ['https://spreadsheets.google.com/feeds',\n",
    "         'https://www.googleapis.com/auth/drive']\n",
    "\n",
    "credentials = Credentials.from_service_account_file('big-mender-274521-324384a764e2.json', scopes=scope)\n",
    "gc = gspread.authorize(credentials)"
   ]
  },
  {
   "cell_type": "code",
   "execution_count": 10,
   "metadata": {},
   "outputs": [],
   "source": [
    "all_metrics.iloc[-1,1:] = all_metrics.iloc[-1,1:].astype(float)"
   ]
  },
  {
   "cell_type": "code",
   "execution_count": 11,
   "metadata": {},
   "outputs": [],
   "source": [
    "@property\n",
    "def sheet1(self):\n",
    "    \"\"\"Shortcut property for getting the first worksheet.\"\"\"\n",
    "    return self.get_worksheet(0)"
   ]
  },
  {
   "cell_type": "code",
   "execution_count": 12,
   "metadata": {},
   "outputs": [
    {
     "data": {
      "text/plain": [
       "{'spreadsheetId': '12pI5UtJ9QBsFWxVjmRVJj6bBdwk_bwxFPmS-APLSQL4',\n",
       " 'tableRange': 'Sheet1!A1:E17',\n",
       " 'updates': {'spreadsheetId': '12pI5UtJ9QBsFWxVjmRVJj6bBdwk_bwxFPmS-APLSQL4',\n",
       "  'updatedRange': 'Sheet1!A18:E18',\n",
       "  'updatedRows': 1,\n",
       "  'updatedColumns': 5,\n",
       "  'updatedCells': 5}}"
      ]
     },
     "execution_count": 12,
     "metadata": {},
     "output_type": "execute_result"
    }
   ],
   "source": [
    "wks1 = gc.open(\"platform evolution/structured data metrics\").sheet1\n",
    "new_metrics = all_metrics.iloc[-1,:].tolist()\n",
    "wks1.append_row(new_metrics)"
   ]
  },
  {
   "cell_type": "code",
   "execution_count": null,
   "metadata": {},
   "outputs": [],
   "source": []
  }
 ],
 "metadata": {
  "kernelspec": {
   "display_name": "Python 3",
   "language": "python",
   "name": "python3"
  },
  "language_info": {
   "codemirror_mode": {
    "name": "ipython",
    "version": 3
   },
   "file_extension": ".py",
   "mimetype": "text/x-python",
   "name": "python",
   "nbconvert_exporter": "python",
   "pygments_lexer": "ipython3",
   "version": "3.7.10"
  }
 },
 "nbformat": 4,
 "nbformat_minor": 4
}
