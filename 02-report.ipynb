{
 "cells": [
  {
   "cell_type": "code",
   "execution_count": 1,
   "metadata": {},
   "outputs": [],
   "source": [
    "from functools import reduce\n",
    "\n",
    "from cycler import cycler\n",
    "from dateutil.relativedelta import relativedelta\n",
    "import matplotlib.pyplot as plt\n",
    "from numbers import Number\n",
    "import numpy as np\n",
    "import pandas as pd\n",
    "#from scipy import stats as sstats\n",
    "import wmfdata as wmf\n",
    "from wmfdata.utils import pct_str, sig_figs\n",
    "from wmfdata.charting import pct_fmt, M_fmt, comma_fmt\n",
    "\n",
    "import gspread\n",
    "from google.oauth2.service_account import Credentials"
   ]
  },
  {
   "cell_type": "code",
   "execution_count": 2,
   "metadata": {},
   "outputs": [],
   "source": [
    "FILE = \"metrics/metrics.tsv\"\n",
    "metrics = pd.read_csv(FILE, sep=\"\\t\", parse_dates=[\"month\"]).set_index(\"month\")"
   ]
  },
  {
   "cell_type": "markdown",
   "metadata": {},
   "source": [
    "# Report"
   ]
  },
  {
   "cell_type": "code",
   "execution_count": 3,
   "metadata": {},
   "outputs": [],
   "source": [
    "report_order = [\n",
    "    'structured_data_used', \n",
    "    'num_commons_files_used_content_pages',\n",
    "    'wikidata_items',\n",
    "    'wikidata_items_being_reused'\n",
    "]"
   ]
  },
  {
   "cell_type": "code",
   "execution_count": 4,
   "metadata": {},
   "outputs": [],
   "source": [
    "new_metrics = metrics.iloc[[-1]].transpose().reindex(report_order).fillna(\"—\")"
   ]
  },
  {
   "cell_type": "code",
   "execution_count": 5,
   "metadata": {},
   "outputs": [],
   "source": [
    "new_metrics.at['structured_data_used','status'] =  new_metrics.iloc[0][0]/87000000-1\n",
    "new_metrics.at['num_commons_files_used_content_pages','status'] = new_metrics.iloc[1][0]/31200000-1\n",
    "new_metrics.at['wikidata_items_being_reused','status'] = new_metrics.iloc[3][0]/new_metrics.iloc[2][0]"
   ]
  },
  {
   "cell_type": "code",
   "execution_count": 6,
   "metadata": {},
   "outputs": [
    {
     "data": {
      "text/html": [
       "<div>\n",
       "<style scoped>\n",
       "    .dataframe tbody tr th:only-of-type {\n",
       "        vertical-align: middle;\n",
       "    }\n",
       "\n",
       "    .dataframe tbody tr th {\n",
       "        vertical-align: top;\n",
       "    }\n",
       "\n",
       "    .dataframe thead th {\n",
       "        text-align: right;\n",
       "    }\n",
       "</style>\n",
       "<table border=\"1\" class=\"dataframe\">\n",
       "  <thead>\n",
       "    <tr style=\"text-align: right;\">\n",
       "      <th>month</th>\n",
       "      <th>2022-06-01 00:00:00</th>\n",
       "      <th>status</th>\n",
       "    </tr>\n",
       "  </thead>\n",
       "  <tbody>\n",
       "    <tr>\n",
       "      <th>structured_data_used</th>\n",
       "      <td>131146802.0</td>\n",
       "      <td>0.507435</td>\n",
       "    </tr>\n",
       "    <tr>\n",
       "      <th>num_commons_files_used_content_pages</th>\n",
       "      <td>38636121.0</td>\n",
       "      <td>0.238337</td>\n",
       "    </tr>\n",
       "    <tr>\n",
       "      <th>wikidata_items</th>\n",
       "      <td>97778126.0</td>\n",
       "      <td>NaN</td>\n",
       "    </tr>\n",
       "    <tr>\n",
       "      <th>wikidata_items_being_reused</th>\n",
       "      <td>20903956.0</td>\n",
       "      <td>0.213790</td>\n",
       "    </tr>\n",
       "  </tbody>\n",
       "</table>\n",
       "</div>"
      ],
      "text/plain": [
       "month                                 2022-06-01 00:00:00    status\n",
       "structured_data_used                          131146802.0  0.507435\n",
       "num_commons_files_used_content_pages           38636121.0  0.238337\n",
       "wikidata_items                                 97778126.0       NaN\n",
       "wikidata_items_being_reused                    20903956.0  0.213790"
      ]
     },
     "execution_count": 6,
     "metadata": {},
     "output_type": "execute_result"
    }
   ],
   "source": [
    "#March\n",
    "new_metrics"
   ]
  },
  {
   "cell_type": "raw",
   "metadata": {},
   "source": [
    "new_metrics = metrics.iloc[[-2]].transpose().reindex(report_order).fillna(\"—\")"
   ]
  },
  {
   "cell_type": "raw",
   "metadata": {},
   "source": [
    "new_metrics.at['structured_data_used','status'] =  new_metrics.iloc[0][0]/87000000-1\n",
    "new_metrics.at['num_commons_files_used_content_pages','status'] = new_metrics.iloc[1][0]/31200000-1\n",
    "new_metrics.at['wikidata_items_being_reused','status'] = new_metrics.iloc[3][0]/new_metrics.iloc[2][0]"
   ]
  },
  {
   "cell_type": "code",
   "execution_count": 7,
   "metadata": {},
   "outputs": [
    {
     "data": {
      "text/html": [
       "<div>\n",
       "<style scoped>\n",
       "    .dataframe tbody tr th:only-of-type {\n",
       "        vertical-align: middle;\n",
       "    }\n",
       "\n",
       "    .dataframe tbody tr th {\n",
       "        vertical-align: top;\n",
       "    }\n",
       "\n",
       "    .dataframe thead th {\n",
       "        text-align: right;\n",
       "    }\n",
       "</style>\n",
       "<table border=\"1\" class=\"dataframe\">\n",
       "  <thead>\n",
       "    <tr style=\"text-align: right;\">\n",
       "      <th>month</th>\n",
       "      <th>2022-06-01 00:00:00</th>\n",
       "      <th>status</th>\n",
       "    </tr>\n",
       "  </thead>\n",
       "  <tbody>\n",
       "    <tr>\n",
       "      <th>structured_data_used</th>\n",
       "      <td>131146802.0</td>\n",
       "      <td>0.507435</td>\n",
       "    </tr>\n",
       "    <tr>\n",
       "      <th>num_commons_files_used_content_pages</th>\n",
       "      <td>38636121.0</td>\n",
       "      <td>0.238337</td>\n",
       "    </tr>\n",
       "    <tr>\n",
       "      <th>wikidata_items</th>\n",
       "      <td>97778126.0</td>\n",
       "      <td>NaN</td>\n",
       "    </tr>\n",
       "    <tr>\n",
       "      <th>wikidata_items_being_reused</th>\n",
       "      <td>20903956.0</td>\n",
       "      <td>0.213790</td>\n",
       "    </tr>\n",
       "  </tbody>\n",
       "</table>\n",
       "</div>"
      ],
      "text/plain": [
       "month                                 2022-06-01 00:00:00    status\n",
       "structured_data_used                          131146802.0  0.507435\n",
       "num_commons_files_used_content_pages           38636121.0  0.238337\n",
       "wikidata_items                                 97778126.0       NaN\n",
       "wikidata_items_being_reused                    20903956.0  0.213790"
      ]
     },
     "execution_count": 7,
     "metadata": {},
     "output_type": "execute_result"
    }
   ],
   "source": [
    "new_metrics"
   ]
  },
  {
   "cell_type": "markdown",
   "metadata": {},
   "source": [
    "# Update Google Sheet"
   ]
  },
  {
   "cell_type": "code",
   "execution_count": 8,
   "metadata": {},
   "outputs": [],
   "source": [
    "FILE = \"metrics/metrics.tsv\"\n",
    "all_metrics = pd.read_csv(FILE, sep=\"\\t\")"
   ]
  },
  {
   "cell_type": "code",
   "execution_count": 9,
   "metadata": {},
   "outputs": [],
   "source": [
    "scope = ['https://spreadsheets.google.com/feeds',\n",
    "         'https://www.googleapis.com/auth/drive']\n",
    "\n",
    "credentials = Credentials.from_service_account_file('key-metrics-343717-07427b76df93.json', scopes=scope)\n",
    "gc = gspread.authorize(credentials)"
   ]
  },
  {
   "cell_type": "code",
   "execution_count": 10,
   "metadata": {},
   "outputs": [],
   "source": [
    "all_metrics.iloc[-1,1:] = all_metrics.iloc[-1,1:].astype(float)"
   ]
  },
  {
   "cell_type": "code",
   "execution_count": 11,
   "metadata": {},
   "outputs": [],
   "source": [
    "@property\n",
    "def sheet1(self):\n",
    "    \"\"\"Shortcut property for getting the first worksheet.\"\"\"\n",
    "    return self.get_worksheet(0)"
   ]
  },
  {
   "cell_type": "code",
   "execution_count": 12,
   "metadata": {},
   "outputs": [
    {
     "data": {
      "text/plain": [
       "{'spreadsheetId': '12pI5UtJ9QBsFWxVjmRVJj6bBdwk_bwxFPmS-APLSQL4',\n",
       " 'tableRange': 'Sheet1!A1:E25',\n",
       " 'updates': {'spreadsheetId': '12pI5UtJ9QBsFWxVjmRVJj6bBdwk_bwxFPmS-APLSQL4',\n",
       "  'updatedRange': 'Sheet1!A26:E26',\n",
       "  'updatedRows': 1,\n",
       "  'updatedColumns': 5,\n",
       "  'updatedCells': 5}}"
      ]
     },
     "execution_count": 12,
     "metadata": {},
     "output_type": "execute_result"
    }
   ],
   "source": [
    "wks1 = gc.open(\"platform evolution/structured data metrics\").sheet1\n",
    "new_metrics = all_metrics.iloc[-1,:].tolist()\n",
    "wks1.append_row(new_metrics)"
   ]
  },
  {
   "cell_type": "code",
   "execution_count": null,
   "metadata": {},
   "outputs": [],
   "source": []
  }
 ],
 "metadata": {
  "kernelspec": {
   "display_name": "Python 3",
   "language": "python",
   "name": "python3"
  },
  "language_info": {
   "codemirror_mode": {
    "name": "ipython",
    "version": 3
   },
   "file_extension": ".py",
   "mimetype": "text/x-python",
   "name": "python",
   "nbconvert_exporter": "python",
   "pygments_lexer": "ipython3",
   "version": "3.7.10"
  }
 },
 "nbformat": 4,
 "nbformat_minor": 4
}
