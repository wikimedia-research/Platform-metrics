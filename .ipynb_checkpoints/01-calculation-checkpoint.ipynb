{
 "cells": [
  {
   "cell_type": "markdown",
   "metadata": {},
   "source": [
    "# Import"
   ]
  },
  {
   "cell_type": "code",
   "execution_count": 1,
   "metadata": {},
   "outputs": [],
   "source": [
    "from functools import reduce\n",
    "from pathlib import Path\n",
    "import time\n",
    "import datetime\n",
    "\n",
    "import pandas as pd\n",
    "import requests\n",
    "from wmfdata import hive,spark\n",
    "from wmfdata.utils import print_err, pd_display_all"
   ]
  },
  {
   "cell_type": "markdown",
   "metadata": {},
   "source": [
    "# Parameters"
   ]
  },
  {
   "cell_type": "code",
   "execution_count": 2,
   "metadata": {},
   "outputs": [],
   "source": [
    "# TSV file where metrics are or will be saved\n",
    "FILENAME = \"metrics/metrics.tsv\"\n",
    "\n",
    "# Metric month. The mediawiki_history snapshot must be from the metrics month or later.\n",
    "last_month = datetime.date.today().replace(day=1) - datetime.timedelta(days=1)\n",
    "\n",
    "METRICS_MONTH_TEXT = last_month.strftime(\"%Y-%m\")\n",
    "MEDIAWIKI_HISTORY_SNAPSHOT = last_month.strftime(\"%Y-%m\")\n",
    "\n"
   ]
  },
  {
   "cell_type": "markdown",
   "metadata": {},
   "source": [
    "# Preparation"
   ]
  },
  {
   "cell_type": "code",
   "execution_count": 3,
   "metadata": {},
   "outputs": [],
   "source": [
    "# Convert our metrics month to all the formats we need and provide them in a dict\n",
    "# so we can easily use them to format strings\n",
    "metrics_month = METRICS_MONTH_TEXT\n",
    "date_params = {\n",
    "    \"mediawiki_history_snapshot\": MEDIAWIKI_HISTORY_SNAPSHOT,\n",
    "    \"metrics_month\": str(metrics_month), \n",
    "    \"metrics_month_first_day\": str((datetime.date.today()- datetime.timedelta(days=31)).replace(day=1)),\n",
    "    \"metrics_month_last_day\": str(last_month),\n",
    "    \"metrics_year\": last_month.year,\n",
    "    \"metrics_cur_month\" : last_month.month\n",
    "}\n",
    "\n",
    "# Load any previous results\n",
    "try:\n",
    "    old_metrics = (\n",
    "        pd.read_csv(FILENAME, sep=\"\\t\", parse_dates = [\"month\"])\n",
    "        .set_index(\"month\")\n",
    "    )\n",
    "except FileNotFoundError:\n",
    "    old_metrics = None\n",
    "    \n",
    "def prepare_query(filename):\n",
    "    return (\n",
    "        Path(filename)\n",
    "        .read_text()\n",
    "        .format(**date_params)\n",
    "    )"
   ]
  },
  {
   "cell_type": "code",
   "execution_count": 4,
   "metadata": {},
   "outputs": [
    {
     "data": {
      "text/plain": [
       "{'mediawiki_history_snapshot': '2021-10',\n",
       " 'metrics_month': '2021-10',\n",
       " 'metrics_month_first_day': '2021-10-01',\n",
       " 'metrics_month_last_day': '2021-10-31',\n",
       " 'metrics_year': 2021,\n",
       " 'metrics_cur_month': 10}"
      ]
     },
     "execution_count": 4,
     "metadata": {},
     "output_type": "execute_result"
    }
   ],
   "source": [
    "date_params"
   ]
  },
  {
   "cell_type": "markdown",
   "metadata": {},
   "source": [
    "# MariaDB and Hive query metrics\n"
   ]
  },
  {
   "cell_type": "code",
   "execution_count": 5,
   "metadata": {},
   "outputs": [
    {
     "name": "stderr",
     "output_type": "stream",
     "text": [
      "Running structured_data_used on hive...\n",
      "Running num_commons_files_used_content_pages on hive...\n",
      "Running wikidata_items on hive...\n",
      "Running wikidata_items_being_reused on hive...\n"
     ]
    }
   ],
   "source": [
    "queries = {\n",
    "    \"structured_data_used\": {\n",
    "        \"file\": \"queries/structured_data_used.hql\",\n",
    "        \"engine\": \"hive\"\n",
    "    },\n",
    "    \n",
    "    \"num_commons_files_used_content_pages\": {\n",
    "        \"file\": \"queries/num_commons_files.hql\",\n",
    "        \"engine\": \"hive\"\n",
    "    },\n",
    "    \"wikidata_items\": {\n",
    "        \"file\": \"queries/wikidata_items.hql\",\n",
    "        \"engine\": \"hive\"\n",
    "    },\n",
    "    \"wikidata_items_being_reused\": {\n",
    "        \"file\": \"queries/wikidata_items_being_reused.hql\",\n",
    "        \"engine\": \"hive\"\n",
    "    }\n",
    "       \n",
    "}\n",
    "\n",
    "\n",
    "for key, val in queries.items():\n",
    "    query = prepare_query(val[\"file\"])\n",
    "    engine = val[\"engine\"]\n",
    "    print_err(\"Running {} on {}...\".format(key, engine))\n",
    "    \n",
    "    if engine == \"mariadb\":\n",
    "        result = mariadb.run(query)\n",
    "    elif engine == \"hive\":\n",
    "        result = hive.run(query)\n",
    "    else:\n",
    "        raise ValueError(\"Unknown engine specified.\") \n",
    "    \n",
    "    result = result.assign(month=lambda df: pd.to_datetime(df[\"month\"]))\n",
    "    val[\"result\"] = result"
   ]
  },
  {
   "cell_type": "code",
   "execution_count": 6,
   "metadata": {},
   "outputs": [
    {
     "data": {
      "text/html": [
       "<div>\n",
       "<style scoped>\n",
       "    .dataframe tbody tr th:only-of-type {\n",
       "        vertical-align: middle;\n",
       "    }\n",
       "\n",
       "    .dataframe tbody tr th {\n",
       "        vertical-align: top;\n",
       "    }\n",
       "\n",
       "    .dataframe thead th {\n",
       "        text-align: right;\n",
       "    }\n",
       "</style>\n",
       "<table border=\"1\" class=\"dataframe\">\n",
       "  <thead>\n",
       "    <tr style=\"text-align: right;\">\n",
       "      <th></th>\n",
       "      <th>month</th>\n",
       "      <th>wikidata_items_being_reused</th>\n",
       "    </tr>\n",
       "  </thead>\n",
       "  <tbody>\n",
       "    <tr>\n",
       "      <th>0</th>\n",
       "      <td>2021-10-01</td>\n",
       "      <td>19801319</td>\n",
       "    </tr>\n",
       "  </tbody>\n",
       "</table>\n",
       "</div>"
      ],
      "text/plain": [
       "       month  wikidata_items_being_reused\n",
       "0 2021-10-01                     19801319"
      ]
     },
     "execution_count": 6,
     "metadata": {},
     "output_type": "execute_result"
    }
   ],
   "source": [
    "result"
   ]
  },
  {
   "cell_type": "markdown",
   "metadata": {},
   "source": [
    "# Combining and saving metrics"
   ]
  },
  {
   "cell_type": "code",
   "execution_count": 7,
   "metadata": {},
   "outputs": [],
   "source": [
    "# Assemble list of result dataframes\n",
    "results = [val[\"result\"] for _, val in queries.items()]\n",
    "\n",
    "# Merge them all, assuming that the month is the only common column\n",
    "new_metrics = reduce(lambda l, r: pd.merge(l, r, how=\"outer\"), results)\n",
    "\n",
    "# Set the month as an index so combine_first works properly\n",
    "new_metrics = new_metrics.set_index(\"month\").sort_index()\n"
   ]
  },
  {
   "cell_type": "code",
   "execution_count": 8,
   "metadata": {},
   "outputs": [
    {
     "data": {
      "text/html": [
       "<div>\n",
       "<style scoped>\n",
       "    .dataframe tbody tr th:only-of-type {\n",
       "        vertical-align: middle;\n",
       "    }\n",
       "\n",
       "    .dataframe tbody tr th {\n",
       "        vertical-align: top;\n",
       "    }\n",
       "\n",
       "    .dataframe thead th {\n",
       "        text-align: right;\n",
       "    }\n",
       "</style>\n",
       "<table border=\"1\" class=\"dataframe\">\n",
       "  <thead>\n",
       "    <tr style=\"text-align: right;\">\n",
       "      <th></th>\n",
       "      <th>structured_data_used</th>\n",
       "      <th>num_commons_files_used_content_pages</th>\n",
       "      <th>wikidata_items</th>\n",
       "      <th>wikidata_items_being_reused</th>\n",
       "    </tr>\n",
       "    <tr>\n",
       "      <th>month</th>\n",
       "      <th></th>\n",
       "      <th></th>\n",
       "      <th></th>\n",
       "      <th></th>\n",
       "    </tr>\n",
       "  </thead>\n",
       "  <tbody>\n",
       "    <tr>\n",
       "      <th>2021-01-01</th>\n",
       "      <td>110336427.0</td>\n",
       "      <td>30922629.0</td>\n",
       "      <td>91898784.0</td>\n",
       "      <td>18890176.0</td>\n",
       "    </tr>\n",
       "    <tr>\n",
       "      <th>2021-02-01</th>\n",
       "      <td>111537756.0</td>\n",
       "      <td>31236223.0</td>\n",
       "      <td>92346206.0</td>\n",
       "      <td>18961132.0</td>\n",
       "    </tr>\n",
       "    <tr>\n",
       "      <th>2021-03-01</th>\n",
       "      <td>113749241.0</td>\n",
       "      <td>31994067.0</td>\n",
       "      <td>92766054.0</td>\n",
       "      <td>19081836.0</td>\n",
       "    </tr>\n",
       "    <tr>\n",
       "      <th>2021-04-01</th>\n",
       "      <td>115768032.0</td>\n",
       "      <td>32439596.0</td>\n",
       "      <td>93039049.0</td>\n",
       "      <td>19175909.0</td>\n",
       "    </tr>\n",
       "    <tr>\n",
       "      <th>2021-05-01</th>\n",
       "      <td>117023506.0</td>\n",
       "      <td>33188319.0</td>\n",
       "      <td>93295754.0</td>\n",
       "      <td>19272296.0</td>\n",
       "    </tr>\n",
       "    <tr>\n",
       "      <th>2021-06-01</th>\n",
       "      <td>117956153.0</td>\n",
       "      <td>33484828.0</td>\n",
       "      <td>93525712.0</td>\n",
       "      <td>19379045.0</td>\n",
       "    </tr>\n",
       "    <tr>\n",
       "      <th>2021-07-01</th>\n",
       "      <td>118873343.0</td>\n",
       "      <td>33853754.0</td>\n",
       "      <td>93808863.0</td>\n",
       "      <td>19464104.0</td>\n",
       "    </tr>\n",
       "    <tr>\n",
       "      <th>2021-08-01</th>\n",
       "      <td>120411293.0</td>\n",
       "      <td>35339547.0</td>\n",
       "      <td>94347261.0</td>\n",
       "      <td>19540328.0</td>\n",
       "    </tr>\n",
       "    <tr>\n",
       "      <th>2021-09-01</th>\n",
       "      <td>121413643.0</td>\n",
       "      <td>35748687.0</td>\n",
       "      <td>94646283.0</td>\n",
       "      <td>19640044.0</td>\n",
       "    </tr>\n",
       "    <tr>\n",
       "      <th>2021-10-01</th>\n",
       "      <td>123036144.0</td>\n",
       "      <td>36017280.0</td>\n",
       "      <td>95086219.0</td>\n",
       "      <td>19801319.0</td>\n",
       "    </tr>\n",
       "  </tbody>\n",
       "</table>\n",
       "</div>"
      ],
      "text/plain": [
       "            structured_data_used  num_commons_files_used_content_pages  \\\n",
       "month                                                                    \n",
       "2021-01-01  110336427.0           30922629.0                             \n",
       "2021-02-01  111537756.0           31236223.0                             \n",
       "2021-03-01  113749241.0           31994067.0                             \n",
       "2021-04-01  115768032.0           32439596.0                             \n",
       "2021-05-01  117023506.0           33188319.0                             \n",
       "2021-06-01  117956153.0           33484828.0                             \n",
       "2021-07-01  118873343.0           33853754.0                             \n",
       "2021-08-01  120411293.0           35339547.0                             \n",
       "2021-09-01  121413643.0           35748687.0                             \n",
       "2021-10-01  123036144.0           36017280.0                             \n",
       "\n",
       "            wikidata_items  wikidata_items_being_reused  \n",
       "month                                                    \n",
       "2021-01-01  91898784.0      18890176.0                   \n",
       "2021-02-01  92346206.0      18961132.0                   \n",
       "2021-03-01  92766054.0      19081836.0                   \n",
       "2021-04-01  93039049.0      19175909.0                   \n",
       "2021-05-01  93295754.0      19272296.0                   \n",
       "2021-06-01  93525712.0      19379045.0                   \n",
       "2021-07-01  93808863.0      19464104.0                   \n",
       "2021-08-01  94347261.0      19540328.0                   \n",
       "2021-09-01  94646283.0      19640044.0                   \n",
       "2021-10-01  95086219.0      19801319.0                   "
      ]
     },
     "metadata": {},
     "output_type": "display_data"
    }
   ],
   "source": [
    "if old_metrics is None:\n",
    "    metrics = new_metrics\n",
    "else:\n",
    "    metrics = new_metrics.combine_first(old_metrics)\n",
    "    \n",
    "pd_display_all(metrics.tail(10))"
   ]
  },
  {
   "cell_type": "code",
   "execution_count": 9,
   "metadata": {},
   "outputs": [],
   "source": [
    "metrics.to_csv(FILENAME, sep=\"\\t\")"
   ]
  },
  {
   "cell_type": "code",
   "execution_count": null,
   "metadata": {},
   "outputs": [],
   "source": []
  }
 ],
 "metadata": {
  "kernelspec": {
   "display_name": "Python 3",
   "language": "python",
   "name": "python3"
  },
  "language_info": {
   "codemirror_mode": {
    "name": "ipython",
    "version": 3
   },
   "file_extension": ".py",
   "mimetype": "text/x-python",
   "name": "python",
   "nbconvert_exporter": "python",
   "pygments_lexer": "ipython3",
   "version": "3.7.10"
  }
 },
 "nbformat": 4,
 "nbformat_minor": 4
}
